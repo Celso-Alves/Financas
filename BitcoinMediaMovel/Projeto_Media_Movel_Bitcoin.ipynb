{
 "cells": [
  {
   "cell_type": "markdown",
   "metadata": {
    "id": "R2v7pe3nZGUU"
   },
   "source": [
    "### Definição do problema do negócio \n",
    "\n",
    "\n"
   ]
  },
  {
   "cell_type": "markdown",
   "metadata": {
    "id": "nRzXS9tNZb4o"
   },
   "source": [
    "Aplicar analise técnica utizando Média Móvel Simples(Simple move average) num conjunto de dados de fechamento de Preços de Bitcoin.\n",
    "Vou utilizar a API do Mercado Bitcoin\n",
    "\n",
    "Um dos principais papéis da média móvel é realizar uma espécie de filtragem dos dados. Por causa da forma de cálculo, ela é levemente defasada, já que aborda dados históricos e já consolidados.\n",
    "\n",
    "Por outro lado, também é mais representativa, porque desconsidera flutuações pontuais e que não se consolidam como tendência. Portanto, ela ajuda a entender melhor o padrão de comportamento de preços, como os de fechamento das Ações.\n",
    "\n",
    "Por causa de tal característica, são muito utilizadas na análise técnica ou gráfica. Como essa modalidade de avaliação considera as oscilações de preços para perceber tendências, as médias são uma ideia clara do comportamento e das alterações.\n",
    "\n",
    "Sendo assim, a média móvel pode ser indicada para quem adota uma estratégia de especulação na bolsa, em busca do aproveitamento de condições de curto ou curtíssimo prazo.\n",
    "\n",
    "Como a média móvel pode compreender diversas faixas de períodos, pode servir tanto para quem faz day trade quanto para quem faz swing trade ou scalping. Afinal, ela se adapta a prazos diferentes para as operações.\n"
   ]
  },
  {
   "cell_type": "markdown",
   "metadata": {},
   "source": [
    "### Fonte de Dados\n",
    "\n",
    "Irei utilizar a API disponibilizada pelo mercado bitcoin na url https://www.mercadobitcoin.com.br/api-doc/"
   ]
  },
  {
   "cell_type": "markdown",
   "metadata": {
    "id": "aR-Fe9QPa2g3"
   },
   "source": [
    "## Instalação dos pacotes\n"
   ]
  },
  {
   "cell_type": "markdown",
   "metadata": {
    "id": "c2NO-sPTa5jC"
   },
   "source": [
    "**instalacao da lib do mercado bitcoin**<br>\n",
    "URL da biblioteca para mais informações:<BR> https://github.com/mbampi/mercado-bitcoin"
   ]
  },
  {
   "cell_type": "code",
   "execution_count": null,
   "metadata": {},
   "outputs": [],
   "source": [
    "#!pip install mercado-bitcoin"
   ]
  },
  {
   "cell_type": "markdown",
   "metadata": {
    "id": "uGeWCRKzvaAH"
   },
   "source": [
    "## Importação dos Pacotes"
   ]
  },
  {
   "cell_type": "code",
   "execution_count": 19,
   "metadata": {
    "colab": {
     "base_uri": "https://localhost:8080/",
     "height": 366
    },
    "id": "BCPkz_sA1sY4",
    "outputId": "dabc10a3-fb34-4348-96ca-14a8f02cf332"
   },
   "outputs": [],
   "source": [
    "import numpy as np\n",
    "import pandas as pd\n",
    "import matplotlib.pyplot as plt\n",
    "import seaborn as sns\n",
    "sns.set()\n",
    "import datetime\n",
    "import time\n",
    "from datetime import datetime , timedelta,date\n",
    "#importação da lib do mercado mercado bitcoin\n",
    "from mercado_bitcoin import DataAPI\n",
    "import json\n",
    "from pandas.io.json import json_normalize\n",
    "\n",
    "#Desabilitar warnings\n",
    "import warnings\n",
    "warnings.filterwarnings('ignore')\n"
   ]
  },
  {
   "cell_type": "markdown",
   "metadata": {},
   "source": [
    "## Extração dos Dados em Tempo Real"
   ]
  },
  {
   "cell_type": "code",
   "execution_count": 8,
   "metadata": {},
   "outputs": [],
   "source": [
    "#definir uma variável com o valor em dias para resgatar da exchange\n",
    "dias_resgatar = 120"
   ]
  },
  {
   "cell_type": "markdown",
   "metadata": {},
   "source": [
    "**Loop para retornar os ultimos 120 dias no mercado bitcoin**"
   ]
  },
  {
   "cell_type": "code",
   "execution_count": 20,
   "metadata": {},
   "outputs": [
    {
     "name": "stdout",
     "output_type": "stream",
     "text": [
      "Adicionando data: 2021-08-26\n",
      "Adicionando data: 2021-08-25\n",
      "Adicionando data: 2021-08-24\n",
      "Adicionando data: 2021-08-23\n",
      "Adicionando data: 2021-08-22\n",
      "Adicionando data: 2021-08-21\n",
      "Adicionando data: 2021-08-20\n",
      "Adicionando data: 2021-08-19\n",
      "Adicionando data: 2021-08-18\n",
      "Adicionando data: 2021-08-17\n",
      "Adicionando data: 2021-08-16\n",
      "Adicionando data: 2021-08-15\n",
      "Adicionando data: 2021-08-14\n",
      "Adicionando data: 2021-08-13\n",
      "Adicionando data: 2021-08-12\n",
      "Adicionando data: 2021-08-11\n",
      "Adicionando data: 2021-08-10\n",
      "Adicionando data: 2021-08-09\n",
      "Adicionando data: 2021-08-08\n",
      "Adicionando data: 2021-08-07\n",
      "Adicionando data: 2021-08-06\n",
      "Adicionando data: 2021-08-05\n",
      "Adicionando data: 2021-08-04\n",
      "Adicionando data: 2021-08-03\n",
      "Adicionando data: 2021-08-02\n",
      "Adicionando data: 2021-08-01\n",
      "Adicionando data: 2021-07-31\n",
      "Adicionando data: 2021-07-30\n",
      "Adicionando data: 2021-07-29\n",
      "Adicionando data: 2021-07-28\n",
      "Adicionando data: 2021-07-27\n",
      "Adicionando data: 2021-07-26\n",
      "Adicionando data: 2021-07-25\n",
      "Adicionando data: 2021-07-24\n",
      "Adicionando data: 2021-07-23\n",
      "Adicionando data: 2021-07-22\n",
      "Adicionando data: 2021-07-21\n",
      "Adicionando data: 2021-07-20\n",
      "Adicionando data: 2021-07-19\n",
      "Adicionando data: 2021-07-18\n",
      "Adicionando data: 2021-07-17\n",
      "Adicionando data: 2021-07-16\n",
      "Adicionando data: 2021-07-15\n",
      "Adicionando data: 2021-07-14\n",
      "Adicionando data: 2021-07-13\n",
      "Adicionando data: 2021-07-12\n",
      "Adicionando data: 2021-07-11\n",
      "Adicionando data: 2021-07-10\n",
      "Adicionando data: 2021-07-09\n",
      "Adicionando data: 2021-07-08\n",
      "Adicionando data: 2021-07-07\n",
      "Adicionando data: 2021-07-06\n",
      "Adicionando data: 2021-07-05\n",
      "Adicionando data: 2021-07-04\n",
      "Adicionando data: 2021-07-03\n",
      "Adicionando data: 2021-07-02\n",
      "Adicionando data: 2021-07-01\n",
      "Adicionando data: 2021-06-30\n",
      "Adicionando data: 2021-06-29\n",
      "Adicionando data: 2021-06-28\n",
      "Adicionando data: 2021-06-27\n",
      "Adicionando data: 2021-06-26\n",
      "Adicionando data: 2021-06-25\n",
      "Adicionando data: 2021-06-24\n",
      "Adicionando data: 2021-06-23\n",
      "Adicionando data: 2021-06-22\n",
      "Adicionando data: 2021-06-21\n",
      "Adicionando data: 2021-06-20\n",
      "Adicionando data: 2021-06-19\n",
      "Adicionando data: 2021-06-18\n",
      "Adicionando data: 2021-06-17\n",
      "Adicionando data: 2021-06-16\n",
      "Adicionando data: 2021-06-15\n",
      "Adicionando data: 2021-06-14\n",
      "Adicionando data: 2021-06-13\n",
      "Adicionando data: 2021-06-12\n",
      "Adicionando data: 2021-06-11\n",
      "Adicionando data: 2021-06-10\n",
      "Adicionando data: 2021-06-09\n",
      "Adicionando data: 2021-06-08\n",
      "Adicionando data: 2021-06-07\n",
      "Adicionando data: 2021-06-06\n",
      "Adicionando data: 2021-06-05\n",
      "Adicionando data: 2021-06-04\n",
      "Adicionando data: 2021-06-03\n",
      "Adicionando data: 2021-06-02\n",
      "Adicionando data: 2021-06-01\n",
      "Adicionando data: 2021-05-31\n",
      "Adicionando data: 2021-05-30\n",
      "Adicionando data: 2021-05-29\n",
      "Adicionando data: 2021-05-28\n",
      "Adicionando data: 2021-05-27\n",
      "Adicionando data: 2021-05-26\n",
      "Adicionando data: 2021-05-25\n",
      "Adicionando data: 2021-05-24\n",
      "Adicionando data: 2021-05-23\n",
      "Adicionando data: 2021-05-22\n",
      "Adicionando data: 2021-05-21\n",
      "Adicionando data: 2021-05-20\n",
      "Adicionando data: 2021-05-19\n",
      "Adicionando data: 2021-05-18\n",
      "Adicionando data: 2021-05-17\n",
      "Adicionando data: 2021-05-16\n",
      "Adicionando data: 2021-05-15\n",
      "Adicionando data: 2021-05-14\n",
      "Adicionando data: 2021-05-13\n",
      "Adicionando data: 2021-05-12\n",
      "Adicionando data: 2021-05-11\n",
      "Adicionando data: 2021-05-10\n",
      "Adicionando data: 2021-05-09\n",
      "Adicionando data: 2021-05-08\n",
      "Adicionando data: 2021-05-07\n",
      "Adicionando data: 2021-05-06\n",
      "Adicionando data: 2021-05-05\n",
      "Adicionando data: 2021-05-04\n",
      "Adicionando data: 2021-05-03\n",
      "Adicionando data: 2021-05-02\n",
      "Adicionando data: 2021-05-01\n",
      "Adicionando data: 2021-04-30\n"
     ]
    }
   ],
   "source": [
    "df_temp = pd.DataFrame()  \n",
    "for x in range(1, dias_resgatar):\n",
    "  #print(date.today() - timedelta(days=x))\n",
    "  dt = date.today() - timedelta(days=x)\n",
    "  dia,mes,ano = dt.day,dt.month,dt.year\n",
    "  resp = DataAPI.day_summary('BTC', ano, mes, dia).json() \n",
    "  df_temp = pd.concat([json_normalize(resp),df_temp])\n",
    "  time.sleep(1)\n",
    "  print('Adicionando data: ' + str(dt) )"
   ]
  },
  {
   "cell_type": "code",
   "execution_count": 21,
   "metadata": {},
   "outputs": [],
   "source": [
    "#salvar o csv para analise\n",
    "df_temp.to_csv('df_mb.csv', index = False)"
   ]
  },
  {
   "cell_type": "markdown",
   "metadata": {},
   "source": [
    "### Carregando e Explorando o Arquivo de Dados"
   ]
  },
  {
   "cell_type": "code",
   "execution_count": 22,
   "metadata": {
    "colab": {
     "base_uri": "https://localhost:8080/",
     "height": 206
    },
    "id": "o7hP548Q1sZC",
    "outputId": "e0fdf2b3-7f5e-45a2-e453-152c6ce4249f"
   },
   "outputs": [
    {
     "data": {
      "text/html": [
       "<div>\n",
       "<style scoped>\n",
       "    .dataframe tbody tr th:only-of-type {\n",
       "        vertical-align: middle;\n",
       "    }\n",
       "\n",
       "    .dataframe tbody tr th {\n",
       "        vertical-align: top;\n",
       "    }\n",
       "\n",
       "    .dataframe thead th {\n",
       "        text-align: right;\n",
       "    }\n",
       "</style>\n",
       "<table border=\"1\" class=\"dataframe\">\n",
       "  <thead>\n",
       "    <tr style=\"text-align: right;\">\n",
       "      <th></th>\n",
       "      <th>date</th>\n",
       "      <th>opening</th>\n",
       "      <th>closing</th>\n",
       "      <th>lowest</th>\n",
       "      <th>highest</th>\n",
       "      <th>volume</th>\n",
       "      <th>quantity</th>\n",
       "      <th>amount</th>\n",
       "      <th>avg_price</th>\n",
       "    </tr>\n",
       "  </thead>\n",
       "  <tbody>\n",
       "    <tr>\n",
       "      <th>0</th>\n",
       "      <td>2021-04-25</td>\n",
       "      <td>284499.89365</td>\n",
       "      <td>293998.52829</td>\n",
       "      <td>267150.00000</td>\n",
       "      <td>297099.99999</td>\n",
       "      <td>4.047880e+07</td>\n",
       "      <td>144.145199</td>\n",
       "      <td>14620</td>\n",
       "      <td>280819.586525</td>\n",
       "    </tr>\n",
       "    <tr>\n",
       "      <th>1</th>\n",
       "      <td>2021-04-26</td>\n",
       "      <td>293998.52765</td>\n",
       "      <td>296992.91000</td>\n",
       "      <td>292000.00001</td>\n",
       "      <td>309000.00000</td>\n",
       "      <td>6.768143e+07</td>\n",
       "      <td>226.228466</td>\n",
       "      <td>20725</td>\n",
       "      <td>299172.898811</td>\n",
       "    </tr>\n",
       "    <tr>\n",
       "      <th>2</th>\n",
       "      <td>2021-04-27</td>\n",
       "      <td>296992.90955</td>\n",
       "      <td>305499.97002</td>\n",
       "      <td>295000.00000</td>\n",
       "      <td>309143.78989</td>\n",
       "      <td>3.416446e+07</td>\n",
       "      <td>113.042899</td>\n",
       "      <td>15751</td>\n",
       "      <td>302225.635101</td>\n",
       "    </tr>\n",
       "    <tr>\n",
       "      <th>3</th>\n",
       "      <td>2021-04-28</td>\n",
       "      <td>305833.86199</td>\n",
       "      <td>294399.98982</td>\n",
       "      <td>292098.81537</td>\n",
       "      <td>305899.99000</td>\n",
       "      <td>2.774135e+07</td>\n",
       "      <td>92.801838</td>\n",
       "      <td>13691</td>\n",
       "      <td>298931.007232</td>\n",
       "    </tr>\n",
       "    <tr>\n",
       "      <th>4</th>\n",
       "      <td>2021-04-29</td>\n",
       "      <td>294399.98824</td>\n",
       "      <td>288809.90999</td>\n",
       "      <td>282360.00000</td>\n",
       "      <td>294399.99320</td>\n",
       "      <td>2.599753e+07</td>\n",
       "      <td>90.041518</td>\n",
       "      <td>15194</td>\n",
       "      <td>288728.202573</td>\n",
       "    </tr>\n",
       "  </tbody>\n",
       "</table>\n",
       "</div>"
      ],
      "text/plain": [
       "         date       opening       closing        lowest       highest  \\\n",
       "0  2021-04-25  284499.89365  293998.52829  267150.00000  297099.99999   \n",
       "1  2021-04-26  293998.52765  296992.91000  292000.00001  309000.00000   \n",
       "2  2021-04-27  296992.90955  305499.97002  295000.00000  309143.78989   \n",
       "3  2021-04-28  305833.86199  294399.98982  292098.81537  305899.99000   \n",
       "4  2021-04-29  294399.98824  288809.90999  282360.00000  294399.99320   \n",
       "\n",
       "         volume    quantity  amount      avg_price  \n",
       "0  4.047880e+07  144.145199   14620  280819.586525  \n",
       "1  6.768143e+07  226.228466   20725  299172.898811  \n",
       "2  3.416446e+07  113.042899   15751  302225.635101  \n",
       "3  2.774135e+07   92.801838   13691  298931.007232  \n",
       "4  2.599753e+07   90.041518   15194  288728.202573  "
      ]
     },
     "execution_count": 22,
     "metadata": {},
     "output_type": "execute_result"
    }
   ],
   "source": [
    "df = pd.read_csv('df_mb.csv',sep=';')\n",
    "df.head()\n"
   ]
  },
  {
   "cell_type": "code",
   "execution_count": 23,
   "metadata": {},
   "outputs": [
    {
     "data": {
      "text/plain": [
       "<matplotlib.axes._subplots.AxesSubplot at 0x230a0e83808>"
      ]
     },
     "execution_count": 23,
     "metadata": {},
     "output_type": "execute_result"
    },
    {
     "data": {
      "image/png": "[encoded data removed]",
      "text/plain": [
       "<Figure size 432x288 with 1 Axes>"
      ]
     },
     "metadata": {},
     "output_type": "display_data"
    }
   ],
   "source": [
    "#Verificando os fechamentos\n",
    "df['closing'].plot()"
   ]
  },
  {
   "cell_type": "markdown",
   "metadata": {},
   "source": [
    "Função para calcular o cruzamento das médias móveis "
   ]
  },
  {
   "cell_type": "code",
   "execution_count": 24,
   "metadata": {
    "colab": {
     "base_uri": "https://localhost:8080/",
     "height": 424
    },
    "id": "AikH51Qz1sZG",
    "outputId": "9f5205af-027e-4ff1-98ae-2c20c9c6e047"
   },
   "outputs": [
    {
     "data": {
      "text/html": [
       "<div>\n",
       "<style scoped>\n",
       "    .dataframe tbody tr th:only-of-type {\n",
       "        vertical-align: middle;\n",
       "    }\n",
       "\n",
       "    .dataframe tbody tr th {\n",
       "        vertical-align: top;\n",
       "    }\n",
       "\n",
       "    .dataframe thead th {\n",
       "        text-align: right;\n",
       "    }\n",
       "</style>\n",
       "<table border=\"1\" class=\"dataframe\">\n",
       "  <thead>\n",
       "    <tr style=\"text-align: right;\">\n",
       "      <th></th>\n",
       "      <th>signal</th>\n",
       "      <th>short_ma</th>\n",
       "      <th>long_ma</th>\n",
       "      <th>positions</th>\n",
       "    </tr>\n",
       "  </thead>\n",
       "  <tbody>\n",
       "    <tr>\n",
       "      <th>0</th>\n",
       "      <td>0.0</td>\n",
       "      <td>293998.528290</td>\n",
       "      <td>293998.528290</td>\n",
       "      <td>NaN</td>\n",
       "    </tr>\n",
       "    <tr>\n",
       "      <th>1</th>\n",
       "      <td>0.0</td>\n",
       "      <td>295495.719145</td>\n",
       "      <td>295495.719145</td>\n",
       "      <td>0.0</td>\n",
       "    </tr>\n",
       "    <tr>\n",
       "      <th>2</th>\n",
       "      <td>0.0</td>\n",
       "      <td>298830.469437</td>\n",
       "      <td>298830.469437</td>\n",
       "      <td>0.0</td>\n",
       "    </tr>\n",
       "    <tr>\n",
       "      <th>3</th>\n",
       "      <td>0.0</td>\n",
       "      <td>297722.849532</td>\n",
       "      <td>297722.849532</td>\n",
       "      <td>0.0</td>\n",
       "    </tr>\n",
       "    <tr>\n",
       "      <th>4</th>\n",
       "      <td>1.0</td>\n",
       "      <td>296425.694957</td>\n",
       "      <td>295940.261624</td>\n",
       "      <td>1.0</td>\n",
       "    </tr>\n",
       "    <tr>\n",
       "      <th>...</th>\n",
       "      <td>...</td>\n",
       "      <td>...</td>\n",
       "      <td>...</td>\n",
       "      <td>...</td>\n",
       "    </tr>\n",
       "    <tr>\n",
       "      <th>114</th>\n",
       "      <td>0.0</td>\n",
       "      <td>246848.287500</td>\n",
       "      <td>247478.621998</td>\n",
       "      <td>-1.0</td>\n",
       "    </tr>\n",
       "    <tr>\n",
       "      <th>115</th>\n",
       "      <td>0.0</td>\n",
       "      <td>245096.512353</td>\n",
       "      <td>245809.429882</td>\n",
       "      <td>0.0</td>\n",
       "    </tr>\n",
       "    <tr>\n",
       "      <th>116</th>\n",
       "      <td>0.0</td>\n",
       "      <td>245264.354853</td>\n",
       "      <td>246812.483882</td>\n",
       "      <td>0.0</td>\n",
       "    </tr>\n",
       "    <tr>\n",
       "      <th>117</th>\n",
       "      <td>1.0</td>\n",
       "      <td>249510.224852</td>\n",
       "      <td>248808.177882</td>\n",
       "      <td>1.0</td>\n",
       "    </tr>\n",
       "    <tr>\n",
       "      <th>118</th>\n",
       "      <td>1.0</td>\n",
       "      <td>255538.333390</td>\n",
       "      <td>252376.078712</td>\n",
       "      <td>0.0</td>\n",
       "    </tr>\n",
       "  </tbody>\n",
       "</table>\n",
       "<p>119 rows × 4 columns</p>\n",
       "</div>"
      ],
      "text/plain": [
       "     signal       short_ma        long_ma  positions\n",
       "0       0.0  293998.528290  293998.528290        NaN\n",
       "1       0.0  295495.719145  295495.719145        0.0\n",
       "2       0.0  298830.469437  298830.469437        0.0\n",
       "3       0.0  297722.849532  297722.849532        0.0\n",
       "4       1.0  296425.694957  295940.261624        1.0\n",
       "..      ...            ...            ...        ...\n",
       "114     0.0  246848.287500  247478.621998       -1.0\n",
       "115     0.0  245096.512353  245809.429882        0.0\n",
       "116     0.0  245264.354853  246812.483882        0.0\n",
       "117     1.0  249510.224852  248808.177882        1.0\n",
       "118     1.0  255538.333390  252376.078712        0.0\n",
       "\n",
       "[119 rows x 4 columns]"
      ]
     },
     "execution_count": 24,
     "metadata": {},
     "output_type": "execute_result"
    }
   ],
   "source": [
    "short_window = int(0.035 * len(df))\n",
    "long_window = int(0.05 * len(df))\n",
    "\n",
    "signals = pd.DataFrame(index=df.index)\n",
    "signals['signal'] = 0.0\n",
    "\n",
    "signals['short_ma'] = df['closing'].rolling(window=short_window, min_periods=1, center=False).mean()\n",
    "signals['long_ma'] = df['closing'].rolling(window=long_window, min_periods=1, center=False).mean()\n",
    "\n",
    "#se cruzar para cima, sinal de compra, se cruzar para baixo, sinal de venda\n",
    "signals['signal'][short_window:] = np.where(signals['short_ma'][short_window:] \n",
    "                                            > signals['long_ma'][short_window:], 1.0, 0.0)   \n",
    "signals['positions'] = signals['signal'].diff()\n",
    "\n",
    "signals"
   ]
  },
  {
   "cell_type": "code",
   "execution_count": 25,
   "metadata": {
    "id": "eKR6Smrv1sZI"
   },
   "outputs": [],
   "source": [
    "def buy_stock(\n",
    "    real_movement,\n",
    "    signal,\n",
    "    initial_money = 10000,\n",
    "    max_buy = 1,\n",
    "    max_sell = 1,\n",
    "):\n",
    "    \"\"\"\n",
    "    \n",
    "    real_movement = movimento real no mundo real\n",
    "    delay = quanto intervalo você deseja atrasar para mudar nossa decisão de comprar para vender, vice-versa\n",
    "    initial_state = 1 é compra, 0 é venda\n",
    "    initial_money = 1000\n",
    "    max_buy = quantidade máxima para compra de ações\n",
    "    max_sell = quantidade máxima de compartilhamento para vender\n",
    "    \n",
    "    \"\"\"\n",
    "    starting_money = initial_money\n",
    "    states_sell = []\n",
    "    states_buy = []\n",
    "    current_inventory = 0\n",
    "\n",
    "    def buy(i, initial_money, current_inventory):\n",
    "        shares = initial_money // (real_movement[i]*max_buy)\n",
    "        if shares < 1:\n",
    "            print(\n",
    "                'dia %d: Balanço total %f, não há dinheiro suficiente para comprar pelo preço %f'\n",
    "                % (i, initial_money, real_movement[i])\n",
    "            )\n",
    "        else:\n",
    "            if shares > max_buy:\n",
    "                buy_units = max_buy\n",
    "            else:\n",
    "                buy_units = shares\n",
    "            initial_money -= buy_units * real_movement[i]\n",
    "            current_inventory += buy_units\n",
    "            print(\n",
    "                'dia %d: compra de %f BTCs no valor de  %f, Saldo %f'\n",
    "                % (i, buy_units, buy_units * real_movement[i], initial_money)\n",
    "            )\n",
    "            states_buy.append(0)\n",
    "        return initial_money, current_inventory\n",
    "\n",
    "    for i in range(real_movement.shape[0] - int(0.025 * len(df))):\n",
    "        state = signal[i]\n",
    "        if state == 1:\n",
    "            initial_money, current_inventory = buy(\n",
    "                i, initial_money, current_inventory\n",
    "            )\n",
    "            states_buy.append(i)\n",
    "        elif state == -1:\n",
    "            if current_inventory == 0:\n",
    "                    print('dia %d: não pode vender nada, estoque 0' % (i))\n",
    "            else:\n",
    "                if current_inventory > max_sell:\n",
    "                    sell_units = max_sell\n",
    "                else:\n",
    "                    sell_units = current_inventory\n",
    "                current_inventory -= sell_units\n",
    "                total_sell = sell_units * real_movement[i]\n",
    "                initial_money += total_sell\n",
    "                try:\n",
    "                    invest = (\n",
    "                        (real_movement[i] - real_movement[states_buy[-1]])\n",
    "                        / real_movement[states_buy[-1]]\n",
    "                    ) * 100\n",
    "                except:\n",
    "                    invest = 0\n",
    "                print(\n",
    "                    'Dia %d, venda de  %f BTCs no valor de %f, investimento %f %%, Saldo %f,'\n",
    "                    % (i, sell_units, total_sell, invest, initial_money)\n",
    "                )\n",
    "            states_sell.append(i)\n",
    "    invest = ((initial_money - starting_money) / starting_money) * 100\n",
    "    total_gains = initial_money - starting_money\n",
    "    return states_buy, states_sell, total_gains, invest"
   ]
  },
  {
   "cell_type": "code",
   "execution_count": 26,
   "metadata": {
    "colab": {
     "base_uri": "https://localhost:8080/"
    },
    "id": "CRPQUxWH1sZK",
    "outputId": "2a2ef505-b95a-48a4-b7e3-a44f0c25fc8a"
   },
   "outputs": [
    {
     "name": "stdout",
     "output_type": "stream",
     "text": [
      "dia 4: compra de 0.001000 BTCs no valor de  288.809910, Saldo 711.190090\n",
      "Dia 6, venda de  0.001000 BTCs no valor de 314.550004, investimento 8.912469 %, Saldo 1025.740094,\n",
      "dia 7: compra de 0.001000 BTCs no valor de  316.941010, Saldo 708.799084\n",
      "Dia 9, venda de  0.001000 BTCs no valor de 303.900000, investimento -4.114649 %, Saldo 1012.699084,\n",
      "dia 13: compra de 0.001000 BTCs no valor de  310.200080, Saldo 702.499004\n",
      "Dia 16, venda de  0.001000 BTCs no valor de 300.000000, investimento -3.288226 %, Saldo 1002.499004,\n",
      "dia 30: compra de 0.001000 BTCs no valor de  210.000000, Saldo 792.499004\n",
      "Dia 31, venda de  0.001000 BTCs no valor de 203.880000, investimento -2.914286 %, Saldo 996.379004,\n",
      "dia 32: compra de 0.001000 BTCs no valor de  203.573880, Saldo 792.805124\n",
      "Dia 33, venda de  0.001000 BTCs no valor de 192.142599, investimento -5.615298 %, Saldo 984.947723,\n",
      "dia 38: compra de 0.001000 BTCs no valor de  190.509120, Saldo 794.438604\n",
      "Dia 40, venda de  0.001000 BTCs no valor de 189.670000, investimento -0.440462 %, Saldo 984.108604,\n",
      "dia 41: compra de 0.001000 BTCs no valor de  184.109489, Saldo 799.999115\n",
      "Dia 42, venda de  0.001000 BTCs no valor de 185.755202, investimento 0.893877 %, Saldo 985.754317,\n",
      "dia 47: compra de 0.001000 BTCs no valor de  184.412030, Saldo 801.342287\n",
      "Dia 49, venda de  0.001000 BTCs no valor de 200.300480, investimento 8.615734 %, Saldo 1001.642766,\n",
      "dia 50: compra de 0.001000 BTCs no valor de  204.450000, Saldo 797.192766\n",
      "Dia 53, venda de  0.001000 BTCs no valor de 192.593334, investimento -5.799298 %, Saldo 989.786101,\n",
      "dia 63: compra de 0.001000 BTCs no valor de  172.001000, Saldo 817.785101\n",
      "Dia 64, venda de  0.001000 BTCs no valor de 170.968950, investimento -0.600026 %, Saldo 988.754051,\n",
      "dia 65: compra de 0.001000 BTCs no valor de  178.359557, Saldo 810.394494\n",
      "Dia 69, venda de  0.001000 BTCs no valor de 174.301676, investimento -2.275113 %, Saldo 984.696170,\n",
      "dia 70: compra de 0.001000 BTCs no valor de  174.611915, Saldo 810.084255\n",
      "Dia 76, venda de  0.001000 BTCs no valor de 177.808000, investimento 1.830393 %, Saldo 987.892255,\n",
      "dia 77: compra de 0.001000 BTCs no valor de  180.720000, Saldo 807.172255\n",
      "Dia 79, venda de  0.001000 BTCs no valor de 169.995683, investimento -5.934217 %, Saldo 977.167938,\n",
      "dia 88: compra de 0.001000 BTCs no valor de  170.248785, Saldo 806.919153\n",
      "Dia 100, venda de  0.001000 BTCs no valor de 199.442970, investimento 17.147955 %, Saldo 1006.362123,\n",
      "dia 103: compra de 0.001000 BTCs no valor de  226.519400, Saldo 779.842723\n",
      "Dia 114, venda de  0.001000 BTCs no valor de 239.727060, investimento 5.830697 %, Saldo 1019.569783,\n"
     ]
    }
   ],
   "source": [
    "states_buy, states_sell, total_gains, invest = buy_stock(df.closing, signals['positions'],1000,0.001,0.001)"
   ]
  },
  {
   "cell_type": "markdown",
   "metadata": {},
   "source": [
    "**Plot dos Sinais e Resultado da Estratégia**"
   ]
  },
  {
   "cell_type": "code",
   "execution_count": 27,
   "metadata": {
    "colab": {
     "base_uri": "https://localhost:8080/",
     "height": 338
    },
    "id": "-c41QR8x1sZL",
    "outputId": "40589359-503a-4c48-a47e-7eeb4a69bb04"
   },
   "outputs": [
    {
     "data": {
      "image/png": "[encoded data removed]",
      "text/plain": [
       "<Figure size 1080x360 with 1 Axes>"
      ]
     },
     "metadata": {},
     "output_type": "display_data"
    }
   ],
   "source": [
    "close = df['closing']\n",
    "fig = plt.figure(figsize = (15,5))\n",
    "plt.plot(close, color='r', lw=2.)\n",
    "plt.plot(close, '^', markersize=10, color='m', label = 'Sinal Compra', markevery = states_buy)\n",
    "plt.plot(close, 'v', markersize=10, color='k', label = 'Sinal Venda', markevery = states_sell)\n",
    "plt.title(f'Ganhos Totais {total_gains:.2f}, Retorno %f%%'%( invest))\n",
    "plt.legend()\n",
    "plt.show()"
   ]
  },
  {
   "cell_type": "markdown",
   "metadata": {},
   "source": [
    "### Conclusão"
   ]
  },
  {
   "cell_type": "markdown",
   "metadata": {},
   "source": [
    "A estratégia demonstrou bons resultados com baixo volume de dados, o ideal seria testar com um volume mais de dados."
   ]
  },
  {
   "cell_type": "code",
   "execution_count": null,
   "metadata": {},
   "outputs": [],
   "source": []
  }
 ],
 "metadata": {
  "colab": {
   "collapsed_sections": [],
   "name": "Projeto Media Movel Bitcoin.ipynb",
   "provenance": []
  },
  "kernelspec": {
   "display_name": "Python 3",
   "language": "python",
   "name": "python3"
  },
  "language_info": {
   "codemirror_mode": {
    "name": "ipython",
    "version": 3
   },
   "file_extension": ".py",
   "mimetype": "text/x-python",
   "name": "python",
   "nbconvert_exporter": "python",
   "pygments_lexer": "ipython3",
   "version": "3.7.6"
  }
 },
 "nbformat": 4,
 "nbformat_minor": 4
}
